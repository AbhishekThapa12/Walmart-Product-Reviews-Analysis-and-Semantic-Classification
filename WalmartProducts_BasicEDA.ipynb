{
  "nbformat": 4,
  "nbformat_minor": 0,
  "metadata": {
    "colab": {
      "name": "WalmartProducts_BasicEDA.ipynb",
      "provenance": [],
      "collapsed_sections": [],
      "toc_visible": true
    },
    "kernelspec": {
      "name": "python3",
      "display_name": "Python 3"
    },
    "language_info": {
      "name": "python"
    }
  },
  "cells": [
    {
      "cell_type": "markdown",
      "source": [
        "## BACKGROUND :"
      ],
      "metadata": {
        "id": "43E1Eupbc-oP"
      }
    },
    {
      "cell_type": "markdown",
      "source": [
        "**<h4>Special Thanks to Yam Peleg, who uploaded this dataset in Kaggle. I pulled the data from Kaggle :</h4>**\n",
        "Here is the Kaggle Link : \n",
        "\n",
        "https://www.kaggle.com/yamqwe/walmart-product-listing-data-2020e"
      ],
      "metadata": {
        "id": "CLutkjtzdiSC"
      }
    },
    {
      "cell_type": "markdown",
      "source": [
        "**<h3> Context </h3>**\n",
        "\n",
        "This dataset was created by our in house teams at PromptCloud(https://www.promptcloud.com/) and DataStock(https://datastock.shop/). This is a sample dataset that contains 30K records in it. You can download the full dataset here(https://app.datastock.shop/?site_name=Walmart_Products_Data_Listing_2020).\n",
        "\n",
        "**<h3> Content </h3>**\n",
        "\n",
        "This dataset contains the following:\n",
        "\n",
        "* Total Records Count : 408504  Domain Name : walmart.com  Date Range : 01st Jan 2020 - 31st Mar 2020   File Extension : csv\n",
        "\n",
        "* Available Fields: Uniq Id, Crawl Timestamp, Pageurl, Website, Title, Rating, Review, Reviewer Name, Review Upvotes, Review Downvotes, Verified Purchaser, Recommended Purchase, Review Date, Five Star, Four Star, Three Star, Two Star, One Star\n",
        "\n",
        "**<h3> Acknowledgements </h3>**\n",
        "\n",
        "We wouldn't be here without the help of our in house web scraping teams at PromptCloud and DataStock. Without them, this would have never been possible.\n",
        "\n",
        "This dataset was created by PromptCloud and contains around 30000 samples along with Four Star, Pageurl, technical information and other features such as:\n",
        "\n",
        "* Crawl Timestamp\n",
        "* Rating\n",
        "* and more.\n",
        "\n"
      ],
      "metadata": {
        "id": "ie0u9zZ_DJZ-"
      }
    },
    {
      "cell_type": "markdown",
      "source": [
        "## A) Import Libraries :"
      ],
      "metadata": {
        "id": "xLJQW-snFPPV"
      }
    },
    {
      "cell_type": "code",
      "source": [
        "import pandas as pd\n",
        "import numpy as np\n",
        "import matplotlib.pyplot as plt\n",
        "import seaborn as sns\n",
        "import warnings\n",
        "warnings.filterwarnings('ignore')\n",
        "\n",
        "from matplotlib import rcParams"
      ],
      "metadata": {
        "id": "VKolxPu_FWh2"
      },
      "execution_count": null,
      "outputs": []
    },
    {
      "cell_type": "markdown",
      "source": [
        "## B) Get the Data :"
      ],
      "metadata": {
        "id": "Q9rKVMqCFwxo"
      }
    },
    {
      "cell_type": "code",
      "source": [
        "# DataFrame is 'product_data'\n",
        "\n",
        "product_data = pd.read_csv('/content/Walmart_Products/WalmartProducts.csv')"
      ],
      "metadata": {
        "id": "-HrqX0cBF2CT"
      },
      "execution_count": null,
      "outputs": []
    },
    {
      "cell_type": "markdown",
      "source": [
        "## C) Let's have a look at the data :"
      ],
      "metadata": {
        "id": "gwHd1aFUGK1r"
      }
    },
    {
      "cell_type": "markdown",
      "source": [
        "**<h3> Q. How many Records & Feaures we have ? </h3>**"
      ],
      "metadata": {
        "id": "hkieifvxKd-c"
      }
    },
    {
      "cell_type": "code",
      "source": [
        "product_data.shape"
      ],
      "metadata": {
        "colab": {
          "base_uri": "https://localhost:8080/"
        },
        "id": "yBb7vpYoKdQO",
        "outputId": "2b6ad240-9ebb-4cf6-90b3-cec3bac65ee9"
      },
      "execution_count": null,
      "outputs": [
        {
          "output_type": "execute_result",
          "data": {
            "text/plain": [
              "(30006, 19)"
            ]
          },
          "metadata": {},
          "execution_count": 121
        }
      ]
    },
    {
      "cell_type": "markdown",
      "source": [
        "**<h3> Observation :</h3>**\n",
        "\n",
        "* No. of Records = 30,006\n",
        "* No. of Features = 19"
      ],
      "metadata": {
        "id": "azbha635K3C7"
      }
    },
    {
      "cell_type": "markdown",
      "source": [
        "**<h3> # Let's have a look at the top 5 records : </h3>**"
      ],
      "metadata": {
        "id": "rxiQ5AS5LTwu"
      }
    },
    {
      "cell_type": "code",
      "source": [
        "product_data.head(5)"
      ],
      "metadata": {
        "colab": {
          "base_uri": "https://localhost:8080/",
          "height": 808
        },
        "id": "b260jl-AGQ2u",
        "outputId": "7073242d-de80-4eac-81cb-d28d5772d376"
      },
      "execution_count": null,
      "outputs": [
        {
          "output_type": "execute_result",
          "data": {
            "text/html": [
              "\n",
              "  <div id=\"df-e2c93cf4-1472-4c1b-a432-4247ae1230ca\">\n",
              "    <div class=\"colab-df-container\">\n",
              "      <div>\n",
              "<style scoped>\n",
              "    .dataframe tbody tr th:only-of-type {\n",
              "        vertical-align: middle;\n",
              "    }\n",
              "\n",
              "    .dataframe tbody tr th {\n",
              "        vertical-align: top;\n",
              "    }\n",
              "\n",
              "    .dataframe thead th {\n",
              "        text-align: right;\n",
              "    }\n",
              "</style>\n",
              "<table border=\"1\" class=\"dataframe\">\n",
              "  <thead>\n",
              "    <tr style=\"text-align: right;\">\n",
              "      <th></th>\n",
              "      <th>index</th>\n",
              "      <th>Uniq Id</th>\n",
              "      <th>Crawl Timestamp</th>\n",
              "      <th>Pageurl</th>\n",
              "      <th>Website</th>\n",
              "      <th>Title</th>\n",
              "      <th>Rating</th>\n",
              "      <th>Review</th>\n",
              "      <th>Reviewer Name</th>\n",
              "      <th>Review Upvotes</th>\n",
              "      <th>Review Downvotes</th>\n",
              "      <th>Verified Purchaser</th>\n",
              "      <th>Recommended Purchase</th>\n",
              "      <th>Review Date</th>\n",
              "      <th>Five Star</th>\n",
              "      <th>Four Star</th>\n",
              "      <th>Three Star</th>\n",
              "      <th>Two Star</th>\n",
              "      <th>One Star</th>\n",
              "    </tr>\n",
              "  </thead>\n",
              "  <tbody>\n",
              "    <tr>\n",
              "      <th>0</th>\n",
              "      <td>0</td>\n",
              "      <td>ee40ad5e6211d47a92fa1962938fad16</td>\n",
              "      <td>2020-03-17 03:37:35 +0000</td>\n",
              "      <td>https://www.walmart.com/reviews/product/15066091</td>\n",
              "      <td>walmart.com</td>\n",
              "      <td>Sylvania 9\" Portable Dvd Player With Swivel Sc...</td>\n",
              "      <td>5.0</td>\n",
              "      <td>This product works great. It's exactly what I ...</td>\n",
              "      <td>Diane</td>\n",
              "      <td>0</td>\n",
              "      <td>0</td>\n",
              "      <td>No</td>\n",
              "      <td>No</td>\n",
              "      <td>12/4/2018</td>\n",
              "      <td>133.0</td>\n",
              "      <td>58.0</td>\n",
              "      <td>15.0</td>\n",
              "      <td>9.0</td>\n",
              "      <td>34.0</td>\n",
              "    </tr>\n",
              "    <tr>\n",
              "      <th>1</th>\n",
              "      <td>1</td>\n",
              "      <td>d10f87c07c206c72b0b5ddbf90541b38</td>\n",
              "      <td>2020-03-27 13:15:01 +0000</td>\n",
              "      <td>https://www.walmart.com/reviews/product/247042233</td>\n",
              "      <td>walmart.com</td>\n",
              "      <td>NaN</td>\n",
              "      <td>1.0</td>\n",
              "      <td>My carrier said this phone had been activated ...</td>\n",
              "      <td>Bren</td>\n",
              "      <td>0</td>\n",
              "      <td>0</td>\n",
              "      <td>No</td>\n",
              "      <td>No</td>\n",
              "      <td>12/21/2018</td>\n",
              "      <td>9.0</td>\n",
              "      <td>0.0</td>\n",
              "      <td>1.0</td>\n",
              "      <td>2.0</td>\n",
              "      <td>8.0</td>\n",
              "    </tr>\n",
              "    <tr>\n",
              "      <th>2</th>\n",
              "      <td>2</td>\n",
              "      <td>ef254e936e02a1b2bdaf89dd51b73403</td>\n",
              "      <td>2020-02-17 04:49:37 +0000</td>\n",
              "      <td>https://www.walmart.com/reviews/product/649827918</td>\n",
              "      <td>walmart.com</td>\n",
              "      <td>VIZIO 65\" Class 4K UHD Quantum SmartCast Smart...</td>\n",
              "      <td>5.0</td>\n",
              "      <td>The picture on this TV is better than any TV I...</td>\n",
              "      <td>Hieronymesque</td>\n",
              "      <td>0</td>\n",
              "      <td>0</td>\n",
              "      <td>Yes</td>\n",
              "      <td>No</td>\n",
              "      <td>12/25/2019</td>\n",
              "      <td>180.0</td>\n",
              "      <td>39.0</td>\n",
              "      <td>5.0</td>\n",
              "      <td>8.0</td>\n",
              "      <td>13.0</td>\n",
              "    </tr>\n",
              "    <tr>\n",
              "      <th>3</th>\n",
              "      <td>3</td>\n",
              "      <td>183ab6b4ec58daae79c66d0151400b63</td>\n",
              "      <td>2020-02-17 03:11:54 +0000</td>\n",
              "      <td>https://www.walmart.com/reviews/product/665198047</td>\n",
              "      <td>walmart.com</td>\n",
              "      <td>TSV For Fitbit Charge 3 USB Charging Cradle Wa...</td>\n",
              "      <td>5.0</td>\n",
              "      <td>NaN</td>\n",
              "      <td>D</td>\n",
              "      <td>0</td>\n",
              "      <td>0</td>\n",
              "      <td>No</td>\n",
              "      <td>No</td>\n",
              "      <td>4/2/2019</td>\n",
              "      <td>2.0</td>\n",
              "      <td>3.0</td>\n",
              "      <td>0.0</td>\n",
              "      <td>0.0</td>\n",
              "      <td>0.0</td>\n",
              "    </tr>\n",
              "    <tr>\n",
              "      <th>4</th>\n",
              "      <td>4</td>\n",
              "      <td>03628759aaed53a0b9d137bca9991c5d</td>\n",
              "      <td>2020-02-07 01:17:14 +0000</td>\n",
              "      <td>https://www.walmart.com/reviews/product/125301514</td>\n",
              "      <td>walmart.com</td>\n",
              "      <td>AKG K92 Closed-Back Headphones - Stereo - Wire...</td>\n",
              "      <td>5.0</td>\n",
              "      <td>Very well-balanced between the highs and the l...</td>\n",
              "      <td>Dubbsta</td>\n",
              "      <td>52</td>\n",
              "      <td>1</td>\n",
              "      <td>No</td>\n",
              "      <td>No</td>\n",
              "      <td>12/9/2017</td>\n",
              "      <td>9.0</td>\n",
              "      <td>3.0</td>\n",
              "      <td>0.0</td>\n",
              "      <td>0.0</td>\n",
              "      <td>2.0</td>\n",
              "    </tr>\n",
              "  </tbody>\n",
              "</table>\n",
              "</div>\n",
              "      <button class=\"colab-df-convert\" onclick=\"convertToInteractive('df-e2c93cf4-1472-4c1b-a432-4247ae1230ca')\"\n",
              "              title=\"Convert this dataframe to an interactive table.\"\n",
              "              style=\"display:none;\">\n",
              "        \n",
              "  <svg xmlns=\"http://www.w3.org/2000/svg\" height=\"24px\"viewBox=\"0 0 24 24\"\n",
              "       width=\"24px\">\n",
              "    <path d=\"M0 0h24v24H0V0z\" fill=\"none\"/>\n",
              "    <path d=\"M18.56 5.44l.94 2.06.94-2.06 2.06-.94-2.06-.94-.94-2.06-.94 2.06-2.06.94zm-11 1L8.5 8.5l.94-2.06 2.06-.94-2.06-.94L8.5 2.5l-.94 2.06-2.06.94zm10 10l.94 2.06.94-2.06 2.06-.94-2.06-.94-.94-2.06-.94 2.06-2.06.94z\"/><path d=\"M17.41 7.96l-1.37-1.37c-.4-.4-.92-.59-1.43-.59-.52 0-1.04.2-1.43.59L10.3 9.45l-7.72 7.72c-.78.78-.78 2.05 0 2.83L4 21.41c.39.39.9.59 1.41.59.51 0 1.02-.2 1.41-.59l7.78-7.78 2.81-2.81c.8-.78.8-2.07 0-2.86zM5.41 20L4 18.59l7.72-7.72 1.47 1.35L5.41 20z\"/>\n",
              "  </svg>\n",
              "      </button>\n",
              "      \n",
              "  <style>\n",
              "    .colab-df-container {\n",
              "      display:flex;\n",
              "      flex-wrap:wrap;\n",
              "      gap: 12px;\n",
              "    }\n",
              "\n",
              "    .colab-df-convert {\n",
              "      background-color: #E8F0FE;\n",
              "      border: none;\n",
              "      border-radius: 50%;\n",
              "      cursor: pointer;\n",
              "      display: none;\n",
              "      fill: #1967D2;\n",
              "      height: 32px;\n",
              "      padding: 0 0 0 0;\n",
              "      width: 32px;\n",
              "    }\n",
              "\n",
              "    .colab-df-convert:hover {\n",
              "      background-color: #E2EBFA;\n",
              "      box-shadow: 0px 1px 2px rgba(60, 64, 67, 0.3), 0px 1px 3px 1px rgba(60, 64, 67, 0.15);\n",
              "      fill: #174EA6;\n",
              "    }\n",
              "\n",
              "    [theme=dark] .colab-df-convert {\n",
              "      background-color: #3B4455;\n",
              "      fill: #D2E3FC;\n",
              "    }\n",
              "\n",
              "    [theme=dark] .colab-df-convert:hover {\n",
              "      background-color: #434B5C;\n",
              "      box-shadow: 0px 1px 3px 1px rgba(0, 0, 0, 0.15);\n",
              "      filter: drop-shadow(0px 1px 2px rgba(0, 0, 0, 0.3));\n",
              "      fill: #FFFFFF;\n",
              "    }\n",
              "  </style>\n",
              "\n",
              "      <script>\n",
              "        const buttonEl =\n",
              "          document.querySelector('#df-e2c93cf4-1472-4c1b-a432-4247ae1230ca button.colab-df-convert');\n",
              "        buttonEl.style.display =\n",
              "          google.colab.kernel.accessAllowed ? 'block' : 'none';\n",
              "\n",
              "        async function convertToInteractive(key) {\n",
              "          const element = document.querySelector('#df-e2c93cf4-1472-4c1b-a432-4247ae1230ca');\n",
              "          const dataTable =\n",
              "            await google.colab.kernel.invokeFunction('convertToInteractive',\n",
              "                                                     [key], {});\n",
              "          if (!dataTable) return;\n",
              "\n",
              "          const docLinkHtml = 'Like what you see? Visit the ' +\n",
              "            '<a target=\"_blank\" href=https://colab.research.google.com/notebooks/data_table.ipynb>data table notebook</a>'\n",
              "            + ' to learn more about interactive tables.';\n",
              "          element.innerHTML = '';\n",
              "          dataTable['output_type'] = 'display_data';\n",
              "          await google.colab.output.renderOutput(dataTable, element);\n",
              "          const docLink = document.createElement('div');\n",
              "          docLink.innerHTML = docLinkHtml;\n",
              "          element.appendChild(docLink);\n",
              "        }\n",
              "      </script>\n",
              "    </div>\n",
              "  </div>\n",
              "  "
            ],
            "text/plain": [
              "   index                           Uniq Id  ... Two Star One Star\n",
              "0      0  ee40ad5e6211d47a92fa1962938fad16  ...      9.0     34.0\n",
              "1      1  d10f87c07c206c72b0b5ddbf90541b38  ...      2.0      8.0\n",
              "2      2  ef254e936e02a1b2bdaf89dd51b73403  ...      8.0     13.0\n",
              "3      3  183ab6b4ec58daae79c66d0151400b63  ...      0.0      0.0\n",
              "4      4  03628759aaed53a0b9d137bca9991c5d  ...      0.0      2.0\n",
              "\n",
              "[5 rows x 19 columns]"
            ]
          },
          "metadata": {},
          "execution_count": 122
        }
      ]
    },
    {
      "cell_type": "markdown",
      "source": [
        "**<h3>Q. What are the features we have ?</h3>**"
      ],
      "metadata": {
        "id": "FqY8iTp6JOl8"
      }
    },
    {
      "cell_type": "code",
      "source": [
        "# List of Features we have:\n",
        "\n",
        "features_list = list(product_data.columns)\n",
        "\n",
        "features_list"
      ],
      "metadata": {
        "colab": {
          "base_uri": "https://localhost:8080/"
        },
        "id": "nud_H1HxJezM",
        "outputId": "cd4fe918-93b4-48a2-b649-1726b05eb3bb"
      },
      "execution_count": null,
      "outputs": [
        {
          "output_type": "execute_result",
          "data": {
            "text/plain": [
              "['index',\n",
              " 'Uniq Id',\n",
              " 'Crawl Timestamp',\n",
              " 'Pageurl',\n",
              " 'Website',\n",
              " 'Title',\n",
              " 'Rating',\n",
              " 'Review',\n",
              " 'Reviewer Name',\n",
              " 'Review Upvotes',\n",
              " 'Review Downvotes',\n",
              " 'Verified Purchaser',\n",
              " 'Recommended Purchase',\n",
              " 'Review Date',\n",
              " 'Five Star',\n",
              " 'Four Star',\n",
              " 'Three Star',\n",
              " 'Two Star',\n",
              " 'One Star']"
            ]
          },
          "metadata": {},
          "execution_count": 123
        }
      ]
    },
    {
      "cell_type": "markdown",
      "source": [
        "## D) Feature Details :"
      ],
      "metadata": {
        "id": "NIDtiygoOSl4"
      }
    },
    {
      "cell_type": "markdown",
      "source": [
        "**<h3>Feature Descriptions :</h3>**\n",
        "\n",
        "* **Rating values**:\n",
        "\n",
        "    1) **'Rating'** is a ***numerical measure (feature)*** fed by the reviewer.\n",
        "\n",
        "    2) Also we have additional 5 numerical features namely,\n",
        "    * **Five Star** \n",
        "    * **Four Star**\n",
        "    * **Three Star**\n",
        "    * **Two Star** \n",
        "    * **One Star** \n",
        "\n",
        "    Too many measures for the same information makes things bit confusing, so we ll drop the other 5 features & we ll keep just **'Rating'** as the only feature for this purpose.\n",
        "\n",
        "*  **'Verified Purchaser'** is a ***Categorical feature*** that helps us to determine how much confidence we can have at the review.\n",
        "\n",
        "    *  If a Purchaser / Reviewer is verified, we can have more confidence/trust at the provided review.\n",
        "\n",
        "    * **'Review Upvotes'** and **'Review Downvotes'** are also features with same purpose.\n",
        "\n",
        "* **'Time-based Features'**:\n",
        "\n",
        "    * **'Crawl Timestamp'** and **'Review Date'** are time-based features.\n",
        "\n",
        "* ***'Review'*** is a text feature\n",
        "\n",
        "* **'Recommended Purchase'** is a Categorical Feature"
      ],
      "metadata": {
        "id": "4_7fKXMgOm0D"
      }
    },
    {
      "cell_type": "markdown",
      "source": [
        "## E) Basic Exploratory Data Analysis:"
      ],
      "metadata": {
        "id": "btDb3LQzX_X7"
      }
    },
    {
      "cell_type": "code",
      "source": [
        "# SUMMARY :\n",
        "\n",
        "product_data.describe()"
      ],
      "metadata": {
        "id": "BQfsFkR5YMQY",
        "colab": {
          "base_uri": "https://localhost:8080/",
          "height": 300
        },
        "outputId": "f6c15850-deea-45ba-e2e2-afeef9f0cebf"
      },
      "execution_count": null,
      "outputs": [
        {
          "output_type": "execute_result",
          "data": {
            "text/html": [
              "\n",
              "  <div id=\"df-4011cea1-324a-4527-afe8-16a984d4905c\">\n",
              "    <div class=\"colab-df-container\">\n",
              "      <div>\n",
              "<style scoped>\n",
              "    .dataframe tbody tr th:only-of-type {\n",
              "        vertical-align: middle;\n",
              "    }\n",
              "\n",
              "    .dataframe tbody tr th {\n",
              "        vertical-align: top;\n",
              "    }\n",
              "\n",
              "    .dataframe thead th {\n",
              "        text-align: right;\n",
              "    }\n",
              "</style>\n",
              "<table border=\"1\" class=\"dataframe\">\n",
              "  <thead>\n",
              "    <tr style=\"text-align: right;\">\n",
              "      <th></th>\n",
              "      <th>index</th>\n",
              "      <th>Rating</th>\n",
              "      <th>Review Upvotes</th>\n",
              "      <th>Review Downvotes</th>\n",
              "      <th>Five Star</th>\n",
              "      <th>Four Star</th>\n",
              "      <th>Three Star</th>\n",
              "      <th>Two Star</th>\n",
              "      <th>One Star</th>\n",
              "    </tr>\n",
              "  </thead>\n",
              "  <tbody>\n",
              "    <tr>\n",
              "      <th>count</th>\n",
              "      <td>30006.000000</td>\n",
              "      <td>30006.000000</td>\n",
              "      <td>30006.000000</td>\n",
              "      <td>30006.000000</td>\n",
              "      <td>29910.000000</td>\n",
              "      <td>29910.000000</td>\n",
              "      <td>29910.000000</td>\n",
              "      <td>29910.000000</td>\n",
              "      <td>29910.000000</td>\n",
              "    </tr>\n",
              "    <tr>\n",
              "      <th>mean</th>\n",
              "      <td>15002.500000</td>\n",
              "      <td>4.153403</td>\n",
              "      <td>1.841498</td>\n",
              "      <td>0.595081</td>\n",
              "      <td>1192.719993</td>\n",
              "      <td>309.563390</td>\n",
              "      <td>83.351655</td>\n",
              "      <td>45.736978</td>\n",
              "      <td>76.904948</td>\n",
              "    </tr>\n",
              "    <tr>\n",
              "      <th>std</th>\n",
              "      <td>8662.130425</td>\n",
              "      <td>1.360657</td>\n",
              "      <td>15.307759</td>\n",
              "      <td>5.300087</td>\n",
              "      <td>2471.409746</td>\n",
              "      <td>763.076482</td>\n",
              "      <td>243.195653</td>\n",
              "      <td>131.705402</td>\n",
              "      <td>174.376824</td>\n",
              "    </tr>\n",
              "    <tr>\n",
              "      <th>min</th>\n",
              "      <td>0.000000</td>\n",
              "      <td>1.000000</td>\n",
              "      <td>0.000000</td>\n",
              "      <td>0.000000</td>\n",
              "      <td>0.000000</td>\n",
              "      <td>0.000000</td>\n",
              "      <td>0.000000</td>\n",
              "      <td>0.000000</td>\n",
              "      <td>0.000000</td>\n",
              "    </tr>\n",
              "    <tr>\n",
              "      <th>25%</th>\n",
              "      <td>7501.250000</td>\n",
              "      <td>4.000000</td>\n",
              "      <td>0.000000</td>\n",
              "      <td>0.000000</td>\n",
              "      <td>48.000000</td>\n",
              "      <td>12.000000</td>\n",
              "      <td>4.000000</td>\n",
              "      <td>2.000000</td>\n",
              "      <td>6.000000</td>\n",
              "    </tr>\n",
              "    <tr>\n",
              "      <th>50%</th>\n",
              "      <td>15002.500000</td>\n",
              "      <td>5.000000</td>\n",
              "      <td>0.000000</td>\n",
              "      <td>0.000000</td>\n",
              "      <td>214.000000</td>\n",
              "      <td>53.000000</td>\n",
              "      <td>16.000000</td>\n",
              "      <td>9.000000</td>\n",
              "      <td>22.000000</td>\n",
              "    </tr>\n",
              "    <tr>\n",
              "      <th>75%</th>\n",
              "      <td>22503.750000</td>\n",
              "      <td>5.000000</td>\n",
              "      <td>0.000000</td>\n",
              "      <td>0.000000</td>\n",
              "      <td>846.000000</td>\n",
              "      <td>218.000000</td>\n",
              "      <td>50.000000</td>\n",
              "      <td>34.000000</td>\n",
              "      <td>72.000000</td>\n",
              "    </tr>\n",
              "    <tr>\n",
              "      <th>max</th>\n",
              "      <td>30005.000000</td>\n",
              "      <td>5.000000</td>\n",
              "      <td>983.000000</td>\n",
              "      <td>432.000000</td>\n",
              "      <td>14427.000000</td>\n",
              "      <td>6120.000000</td>\n",
              "      <td>2490.000000</td>\n",
              "      <td>1417.000000</td>\n",
              "      <td>1714.000000</td>\n",
              "    </tr>\n",
              "  </tbody>\n",
              "</table>\n",
              "</div>\n",
              "      <button class=\"colab-df-convert\" onclick=\"convertToInteractive('df-4011cea1-324a-4527-afe8-16a984d4905c')\"\n",
              "              title=\"Convert this dataframe to an interactive table.\"\n",
              "              style=\"display:none;\">\n",
              "        \n",
              "  <svg xmlns=\"http://www.w3.org/2000/svg\" height=\"24px\"viewBox=\"0 0 24 24\"\n",
              "       width=\"24px\">\n",
              "    <path d=\"M0 0h24v24H0V0z\" fill=\"none\"/>\n",
              "    <path d=\"M18.56 5.44l.94 2.06.94-2.06 2.06-.94-2.06-.94-.94-2.06-.94 2.06-2.06.94zm-11 1L8.5 8.5l.94-2.06 2.06-.94-2.06-.94L8.5 2.5l-.94 2.06-2.06.94zm10 10l.94 2.06.94-2.06 2.06-.94-2.06-.94-.94-2.06-.94 2.06-2.06.94z\"/><path d=\"M17.41 7.96l-1.37-1.37c-.4-.4-.92-.59-1.43-.59-.52 0-1.04.2-1.43.59L10.3 9.45l-7.72 7.72c-.78.78-.78 2.05 0 2.83L4 21.41c.39.39.9.59 1.41.59.51 0 1.02-.2 1.41-.59l7.78-7.78 2.81-2.81c.8-.78.8-2.07 0-2.86zM5.41 20L4 18.59l7.72-7.72 1.47 1.35L5.41 20z\"/>\n",
              "  </svg>\n",
              "      </button>\n",
              "      \n",
              "  <style>\n",
              "    .colab-df-container {\n",
              "      display:flex;\n",
              "      flex-wrap:wrap;\n",
              "      gap: 12px;\n",
              "    }\n",
              "\n",
              "    .colab-df-convert {\n",
              "      background-color: #E8F0FE;\n",
              "      border: none;\n",
              "      border-radius: 50%;\n",
              "      cursor: pointer;\n",
              "      display: none;\n",
              "      fill: #1967D2;\n",
              "      height: 32px;\n",
              "      padding: 0 0 0 0;\n",
              "      width: 32px;\n",
              "    }\n",
              "\n",
              "    .colab-df-convert:hover {\n",
              "      background-color: #E2EBFA;\n",
              "      box-shadow: 0px 1px 2px rgba(60, 64, 67, 0.3), 0px 1px 3px 1px rgba(60, 64, 67, 0.15);\n",
              "      fill: #174EA6;\n",
              "    }\n",
              "\n",
              "    [theme=dark] .colab-df-convert {\n",
              "      background-color: #3B4455;\n",
              "      fill: #D2E3FC;\n",
              "    }\n",
              "\n",
              "    [theme=dark] .colab-df-convert:hover {\n",
              "      background-color: #434B5C;\n",
              "      box-shadow: 0px 1px 3px 1px rgba(0, 0, 0, 0.15);\n",
              "      filter: drop-shadow(0px 1px 2px rgba(0, 0, 0, 0.3));\n",
              "      fill: #FFFFFF;\n",
              "    }\n",
              "  </style>\n",
              "\n",
              "      <script>\n",
              "        const buttonEl =\n",
              "          document.querySelector('#df-4011cea1-324a-4527-afe8-16a984d4905c button.colab-df-convert');\n",
              "        buttonEl.style.display =\n",
              "          google.colab.kernel.accessAllowed ? 'block' : 'none';\n",
              "\n",
              "        async function convertToInteractive(key) {\n",
              "          const element = document.querySelector('#df-4011cea1-324a-4527-afe8-16a984d4905c');\n",
              "          const dataTable =\n",
              "            await google.colab.kernel.invokeFunction('convertToInteractive',\n",
              "                                                     [key], {});\n",
              "          if (!dataTable) return;\n",
              "\n",
              "          const docLinkHtml = 'Like what you see? Visit the ' +\n",
              "            '<a target=\"_blank\" href=https://colab.research.google.com/notebooks/data_table.ipynb>data table notebook</a>'\n",
              "            + ' to learn more about interactive tables.';\n",
              "          element.innerHTML = '';\n",
              "          dataTable['output_type'] = 'display_data';\n",
              "          await google.colab.output.renderOutput(dataTable, element);\n",
              "          const docLink = document.createElement('div');\n",
              "          docLink.innerHTML = docLinkHtml;\n",
              "          element.appendChild(docLink);\n",
              "        }\n",
              "      </script>\n",
              "    </div>\n",
              "  </div>\n",
              "  "
            ],
            "text/plain": [
              "              index        Rating  ...      Two Star      One Star\n",
              "count  30006.000000  30006.000000  ...  29910.000000  29910.000000\n",
              "mean   15002.500000      4.153403  ...     45.736978     76.904948\n",
              "std     8662.130425      1.360657  ...    131.705402    174.376824\n",
              "min        0.000000      1.000000  ...      0.000000      0.000000\n",
              "25%     7501.250000      4.000000  ...      2.000000      6.000000\n",
              "50%    15002.500000      5.000000  ...      9.000000     22.000000\n",
              "75%    22503.750000      5.000000  ...     34.000000     72.000000\n",
              "max    30005.000000      5.000000  ...   1417.000000   1714.000000\n",
              "\n",
              "[8 rows x 9 columns]"
            ]
          },
          "metadata": {},
          "execution_count": 124
        }
      ]
    },
    {
      "cell_type": "markdown",
      "source": [
        "**<h3> i) Title : </h3>**"
      ],
      "metadata": {
        "id": "R_R8-DF17S7S"
      }
    },
    {
      "cell_type": "code",
      "source": [
        "# Missing Values :\n",
        "\n",
        "print('Total number of Records :', len(product_data['Title']))\n",
        "\n",
        "print('No. of Null/Empty Titles :',product_data['Title'].isnull().sum())\n",
        "\n",
        "print('No. of Non-null Titles : ',(~product_data['Title'].isnull()).sum())"
      ],
      "metadata": {
        "colab": {
          "base_uri": "https://localhost:8080/"
        },
        "id": "LJPKUMiz7RVq",
        "outputId": "3c121adf-4059-4165-9485-14d6caf82d8f"
      },
      "execution_count": null,
      "outputs": [
        {
          "output_type": "stream",
          "name": "stdout",
          "text": [
            "Total number of Records : 30006\n",
            "No. of Null/Empty Titles : 5594\n",
            "No. of Non-null Titles :  24412\n"
          ]
        }
      ]
    },
    {
      "cell_type": "code",
      "source": [
        "# Total no. of Distinct Titles / Products :\n",
        "\n",
        "print('Total Distinct Product or Titles : ',len(product_data['Title'].unique()))"
      ],
      "metadata": {
        "colab": {
          "base_uri": "https://localhost:8080/"
        },
        "id": "NJrme4KL9L94",
        "outputId": "ebe5284c-c63f-4eda-9f07-675ffed183f2"
      },
      "execution_count": null,
      "outputs": [
        {
          "output_type": "stream",
          "name": "stdout",
          "text": [
            "Total Distinct Product or Titles :  4320\n"
          ]
        }
      ]
    },
    {
      "cell_type": "code",
      "source": [
        "# Top 20 Products/ Titles w.r.t Count :\n",
        "\n",
        "titles = product_data['Title'].value_counts(dropna = False)\n",
        "\n",
        "print('Top 20 Products / Titles : \\n',titles[0:20])\n"
      ],
      "metadata": {
        "colab": {
          "base_uri": "https://localhost:8080/"
        },
        "id": "2GGoGI_L-3EU",
        "outputId": "8665cc74-7555-4269-a757-7ba4a5a3cfdd"
      },
      "execution_count": null,
      "outputs": [
        {
          "output_type": "stream",
          "name": "stdout",
          "text": [
            "Top 20 Products / Titles : \n",
            " NaN                                                                                                                                                                       5594\n",
            "Roku Express Streaming Device (2016 Model)                                                                                                                                 162\n",
            "Roku 3 Streaming Player                                                                                                                                                    130\n",
            "Roku Express Streaming Media Player - 3700R (2016 Model)                                                                                                                   129\n",
            "Roku Express+ HD 1080p Streaming Media Player, 3910RW                                                                                                                      115\n",
            "COWIN E7 Active Noise Cancelling Headphones Bluetooth Headphones with Mic Deep Bass Wireless Headphones Over Ear                                                           110\n",
            "Apple iPad mini 2 16GB WiFi (Refurbished)                                                                                                                                  108\n",
            "Roku 4400R Roku 4 Streaming Media Player                                                                                                                                   104\n",
            "Roku Premiere+ 4K HDR Streaming Player                                                                                                                                     103\n",
            "Roku Streaming Stick (3500R) (2014 Model)                                                                                                                                  101\n",
            "Roku Ultra 4K HDR Streaming Player with voice remote (2017)                                                                                                                100\n",
            "Samsung Galaxy S7 G930V 32GB Black Onyx Verizon Wireless Refurbished Scratch & Dent                                                                                         97\n",
            "Roku 2 Streaming Player                                                                                                                                                     92\n",
            "Roku Ultra 4660R Network Audio/Video Player                                                                                                                                 92\n",
            "Sceptre 32\" Class 720P HD LED TV X322BV-SR                                                                                                                                  92\n",
            "COWIN E7 Pro Active Noise Cancelling Headphone Bluetooth Headphones Microphone Hi-Fi Deep Bass Wireless Headphones Over Ear 30H Playtime Travel Work TV Computer Phone      91\n",
            "RCA Galileo Pro 11.5\" 32GB 2-in-1 Tablet with Keyboard Case Android OS, Charcoal                                                                                            88\n",
            "Sceptre 55\" Class 4K UHD LED TV HDR U550CV-U                                                                                                                                87\n",
            "RCA Voyager 7\" 16GB Tablet Android OS - Charcoal - RCT6873W42                                                                                                               85\n",
            "Refurbished Samsung Galaxy S7 G930V 32GB Verizon GSM 4G LTE Quad-Core Phone w/ 12MP Dual Pixel Camera - Black Onyx                                                          84\n",
            "Name: Title, dtype: int64\n"
          ]
        }
      ]
    },
    {
      "cell_type": "markdown",
      "source": [
        "**[ Brief on 'Title' ] :**\n",
        "\n",
        "* Missing **Title** records = 5594\n",
        "* No. of Distinct **Titles** = 4320"
      ],
      "metadata": {
        "id": "l8k89WgbHp0Z"
      }
    },
    {
      "cell_type": "markdown",
      "source": [
        "**<h3> ii) Rating :</h3>**"
      ],
      "metadata": {
        "id": "N-Ju3K7zFDeQ"
      }
    },
    {
      "cell_type": "code",
      "source": [
        "# Distribution of Ratings :\n",
        "\n",
        "rcParams['figure.figsize'] = 10,6\n",
        "\n",
        "sns.countplot(x='Rating',data = product_data)"
      ],
      "metadata": {
        "colab": {
          "base_uri": "https://localhost:8080/",
          "height": 405
        },
        "id": "N0vgZf9DFpaf",
        "outputId": "c56e719a-07d2-4a55-fad7-fc1beddafdba"
      },
      "execution_count": null,
      "outputs": [
        {
          "output_type": "execute_result",
          "data": {
            "text/plain": [
              "<matplotlib.axes._subplots.AxesSubplot at 0x7fd23c9c16d0>"
            ]
          },
          "metadata": {},
          "execution_count": 141
        },
        {
          "output_type": "display_data",
          "data": {
            "image/png": "[encoded data removed]",
            "text/plain": [
              "<Figure size 720x432 with 1 Axes>"
            ]
          },
          "metadata": {
            "needs_background": "light"
          }
        }
      ]
    },
    {
      "cell_type": "code",
      "source": [
        "# Missing Values :\n",
        "\n",
        "print('No. of Reviews with missing \"Rating\" :',product_data['Rating'].isnull().sum())"
      ],
      "metadata": {
        "colab": {
          "base_uri": "https://localhost:8080/"
        },
        "id": "zNhGuIShGzwD",
        "outputId": "73ac2895-da47-417e-bd34-aeb27df2af16"
      },
      "execution_count": null,
      "outputs": [
        {
          "output_type": "stream",
          "name": "stdout",
          "text": [
            "No. of Reviews with missing \"Rating\" : 0\n"
          ]
        }
      ]
    },
    {
      "cell_type": "markdown",
      "source": [
        "**[ Brief on 'Rating' ] :**\n",
        "\n",
        "* Missing **Rating** records = 0\n",
        "* Most Reviews contains 5 & 4 star ratings (high ratings) "
      ],
      "metadata": {
        "id": "gAowA7l4bLJp"
      }
    },
    {
      "cell_type": "markdown",
      "source": [
        "**<h3>iii) Review :</h3>**\n",
        "\n"
      ],
      "metadata": {
        "id": "baEhU1MrHYu8"
      }
    },
    {
      "cell_type": "code",
      "source": [
        "# Missing Values :\n",
        "\n",
        "print('Number of Missing values in \"Reviews\" :',product_data['Review'].isnull().sum())"
      ],
      "metadata": {
        "colab": {
          "base_uri": "https://localhost:8080/"
        },
        "id": "9Pl1HcWQNXy-",
        "outputId": "f1aec24c-153a-4b43-e5ae-3b96c1f25d13"
      },
      "execution_count": null,
      "outputs": [
        {
          "output_type": "stream",
          "name": "stdout",
          "text": [
            "Number of Missing values in \"Reviews\" : 4184\n"
          ]
        }
      ]
    },
    {
      "cell_type": "markdown",
      "source": [
        "**<h3>iv) Verified Purchaser :</h3>**"
      ],
      "metadata": {
        "id": "so1dU-PDP4Is"
      }
    },
    {
      "cell_type": "code",
      "source": [
        "# Missing Values :\n",
        "\n",
        "product_data['Verified Purchaser'].isnull().sum()"
      ],
      "metadata": {
        "colab": {
          "base_uri": "https://localhost:8080/"
        },
        "id": "xOkb4EbINsCO",
        "outputId": "b68b65b5-2fde-4266-acb1-0d59642a76f1"
      },
      "execution_count": null,
      "outputs": [
        {
          "output_type": "execute_result",
          "data": {
            "text/plain": [
              "0"
            ]
          },
          "metadata": {},
          "execution_count": 144
        }
      ]
    },
    {
      "cell_type": "code",
      "source": [
        "# Distribution of Verified Purchaser :\n",
        "\n",
        "product_data['Verified Purchaser'].value_counts()"
      ],
      "metadata": {
        "colab": {
          "base_uri": "https://localhost:8080/"
        },
        "id": "Jy0dRoTi5wCG",
        "outputId": "62a386f6-2d6d-483f-dbce-4053141e8caf"
      },
      "execution_count": null,
      "outputs": [
        {
          "output_type": "execute_result",
          "data": {
            "text/plain": [
              "Yes    16138\n",
              "No     13868\n",
              "Name: Verified Purchaser, dtype: int64"
            ]
          },
          "metadata": {},
          "execution_count": 145
        }
      ]
    },
    {
      "cell_type": "code",
      "source": [
        "rcParams['figure.figsize'] = 5,5\n",
        "\n",
        "sns.countplot(x = 'Verified Purchaser',data = product_data)"
      ],
      "metadata": {
        "colab": {
          "base_uri": "https://localhost:8080/",
          "height": 351
        },
        "id": "NCgkVtHYQxz5",
        "outputId": "12c7f171-f3c0-40d6-dd7c-95c50be2ae10"
      },
      "execution_count": null,
      "outputs": [
        {
          "output_type": "execute_result",
          "data": {
            "text/plain": [
              "<matplotlib.axes._subplots.AxesSubplot at 0x7fd23c76b110>"
            ]
          },
          "metadata": {},
          "execution_count": 152
        },
        {
          "output_type": "display_data",
          "data": {
            "image/png": "[encoded data removed]",
            "text/plain": [
              "<Figure size 360x360 with 1 Axes>"
            ]
          },
          "metadata": {
            "needs_background": "light"
          }
        }
      ]
    },
    {
      "cell_type": "code",
      "source": [
        "# Ratings w.r.t 'Verified Purchaser' :\n",
        "\n",
        "sns.set_style = \"Whitegrid\";\n",
        "sns.set_palette = \"Set2\";\n",
        "sns.FacetGrid(product_data, hue=\"Verified Purchaser\", height=8) \\\n",
        "   .map(sns.distplot, \"Rating\") \\\n",
        "   .add_legend();\n",
        "plt.show();"
      ],
      "metadata": {
        "colab": {
          "base_uri": "https://localhost:8080/",
          "height": 585
        },
        "id": "awhr0PkfMnr-",
        "outputId": "2efadc15-200c-47d5-d186-568f76b1b00e"
      },
      "execution_count": null,
      "outputs": [
        {
          "output_type": "display_data",
          "data": {
            "image/png": "[encoded data removed]",
            "text/plain": [
              "<Figure size 675x576 with 1 Axes>"
            ]
          },
          "metadata": {
            "needs_background": "light"
          }
        }
      ]
    },
    {
      "cell_type": "markdown",
      "source": [
        "**Observation :** \n",
        "\n",
        "* Most of the reviews are fed by a **Verified Purchaser**\n",
        "* Most of the Verified Purchaser have given 4.0 or 5.0 rating "
      ],
      "metadata": {
        "id": "jdv5FngOPLyn"
      }
    },
    {
      "cell_type": "markdown",
      "source": [
        "**<h3>v) Recommended Purchase :</h3>**"
      ],
      "metadata": {
        "id": "-QpAYqK2Sw3w"
      }
    },
    {
      "cell_type": "code",
      "source": [
        "# Missing Values :\n",
        "\n",
        "product_data['Recommended Purchase'].isnull().sum()"
      ],
      "metadata": {
        "colab": {
          "base_uri": "https://localhost:8080/"
        },
        "id": "-3lAqTaJS68s",
        "outputId": "89b275d6-fab4-4760-9302-c2076c537a96"
      },
      "execution_count": null,
      "outputs": [
        {
          "output_type": "execute_result",
          "data": {
            "text/plain": [
              "0"
            ]
          },
          "metadata": {},
          "execution_count": 135
        }
      ]
    },
    {
      "cell_type": "code",
      "source": [
        "# Distribution of 'Recommended Purchase' :\n",
        "\n",
        "product_data['Recommended Purchase'].value_counts()"
      ],
      "metadata": {
        "colab": {
          "base_uri": "https://localhost:8080/"
        },
        "id": "k2Pam_AfTmhF",
        "outputId": "0f2e4250-ef2b-468e-8ec1-d3f06ffb669c"
      },
      "execution_count": null,
      "outputs": [
        {
          "output_type": "execute_result",
          "data": {
            "text/plain": [
              "No    30006\n",
              "Name: Recommended Purchase, dtype: int64"
            ]
          },
          "metadata": {},
          "execution_count": 136
        }
      ]
    },
    {
      "cell_type": "code",
      "source": [
        "sns.countplot(x='Recommended Purchase', data = product_data)"
      ],
      "metadata": {
        "colab": {
          "base_uri": "https://localhost:8080/",
          "height": 351
        },
        "id": "VI5po-JHTUHI",
        "outputId": "48c08b3a-9a21-45ae-f4f0-8fdd6b2c2286"
      },
      "execution_count": null,
      "outputs": [
        {
          "output_type": "execute_result",
          "data": {
            "text/plain": [
              "<matplotlib.axes._subplots.AxesSubplot at 0x7fd23c5f8850>"
            ]
          },
          "metadata": {},
          "execution_count": 154
        },
        {
          "output_type": "display_data",
          "data": {
            "image/png": "[encoded data removed]",
            "text/plain": [
              "<Figure size 360x360 with 1 Axes>"
            ]
          },
          "metadata": {
            "needs_background": "light"
          }
        }
      ]
    },
    {
      "cell_type": "markdown",
      "source": [
        "**<h3>vi) 'Review Upvotes' and 'Review Downvotes' :</h3>**"
      ],
      "metadata": {
        "id": "WrWwlytBDAaB"
      }
    },
    {
      "cell_type": "markdown",
      "source": [
        "**Distribution  Plot:**"
      ],
      "metadata": {
        "id": "IrAcDz3wLHEZ"
      }
    },
    {
      "cell_type": "code",
      "source": [
        "fig, ax =plt.subplots(1,2)\n",
        "rcParams['figure.figsize'] = 16,8\n",
        "sns.distplot(product_data['Review Upvotes'], ax=ax[0])\n",
        "sns.distplot(product_data['Review Downvotes'], ax=ax[1])\n",
        "fig.show()"
      ],
      "metadata": {
        "colab": {
          "base_uri": "https://localhost:8080/",
          "height": 599
        },
        "id": "NPDWJDx2T5Yq",
        "outputId": "58ece598-2866-44c4-fab4-4a1e9c478f48"
      },
      "execution_count": null,
      "outputs": [
        {
          "output_type": "display_data",
          "data": {
            "image/png": "[encoded data removed]",
            "text/plain": [
              "<Figure size 1440x720 with 2 Axes>"
            ]
          },
          "metadata": {
            "needs_background": "light"
          }
        }
      ]
    },
    {
      "cell_type": "markdown",
      "source": [
        "**Box  Plot:**"
      ],
      "metadata": {
        "id": "NmBBKApgjm4C"
      }
    },
    {
      "cell_type": "code",
      "source": [
        "fig, ax =plt.subplots(1,2)\n",
        "rcParams['figure.figsize'] = 15,5\n",
        "sns.boxplot(y = product_data['Review Upvotes'], ax=ax[0])\n",
        "sns.boxplot(y = product_data['Review Downvotes'], ax=ax[1])\n",
        "fig.show()"
      ],
      "metadata": {
        "colab": {
          "base_uri": "https://localhost:8080/",
          "height": 469
        },
        "id": "9XFgwIewjmNJ",
        "outputId": "4caf6b78-940b-4af9-ebf9-b19e6ec85135"
      },
      "execution_count": null,
      "outputs": [
        {
          "output_type": "display_data",
          "data": {
            "image/png": "[encoded data removed]",
            "text/plain": [
              "<Figure size 1152x576 with 2 Axes>"
            ]
          },
          "metadata": {
            "needs_background": "light"
          }
        }
      ]
    },
    {
      "cell_type": "markdown",
      "source": [
        "**Percentiles :**"
      ],
      "metadata": {
        "id": "o1o_O8ROlVHF"
      }
    },
    {
      "cell_type": "code",
      "source": [
        "print('For Review Upvotes : \\n') \n",
        "print('25th Percentile = ',product_data['Review Upvotes'].quantile(0.25))\n",
        "print('\\n50th Percentile (Median) = ',product_data['Review Upvotes'].quantile(0.50))\n",
        "print('\\n75th Percentile = ',product_data['Review Upvotes'].quantile(0.75))\n",
        "print('\\n99th Percentile = ',product_data['Review Upvotes'].quantile(0.99))\n",
        "\n",
        "print('\\n\\nFor Review Downvotes : \\n') \n",
        "print('25th Percentile = ',product_data['Review Downvotes'].quantile(0.25))\n",
        "print('\\n50th Percentile (Median) = ',product_data['Review Downvotes'].quantile(0.50))\n",
        "print('\\n75th Percentile = ',product_data['Review Downvotes'].quantile(0.75))\n",
        "print('\\n99th Percentile = ',product_data['Review Downvotes'].quantile(0.99))"
      ],
      "metadata": {
        "colab": {
          "base_uri": "https://localhost:8080/"
        },
        "id": "ZUmuyx3kla6k",
        "outputId": "1b21753a-e409-4ba8-a05c-fc388765538c"
      },
      "execution_count": null,
      "outputs": [
        {
          "output_type": "stream",
          "name": "stdout",
          "text": [
            "For Review Upvotes : \n",
            "\n",
            "25th Percentile =  0.0\n",
            "\n",
            "50th Percentile (Median) =  0.0\n",
            "\n",
            "75th Percentile =  0.0\n",
            "\n",
            "99th Percentile =  37.0\n",
            "\n",
            "\n",
            "For Review Downvotes : \n",
            "\n",
            "25th Percentile =  0.0\n",
            "\n",
            "50th Percentile (Median) =  0.0\n",
            "\n",
            "75th Percentile =  0.0\n",
            "\n",
            "99th Percentile =  12.0\n"
          ]
        }
      ]
    },
    {
      "cell_type": "markdown",
      "source": [
        "**Observations :**\n",
        "\n",
        "* Very few reviews have received Upvotes & Downvotes.\n",
        "* Very Skewed Distribution"
      ],
      "metadata": {
        "id": "UiiLdwFGVXG2"
      }
    },
    {
      "cell_type": "markdown",
      "source": [
        "## F) Basic Insights :\n",
        "\n",
        "* There are some reviews with missing titles & body which provides no value. (Missing values)\n",
        "\n",
        "* **Recommended Purchase** is not useful as it has just 1 category.\n",
        "\n",
        "* **Verified Purchaser** is a good categorical feature with almost balanced data distribution.\n",
        "\n",
        "* Most of the reviewers have given 5 or 4 rating (high rating) which suggests that mostly the purchaser are happy with the Products.\n",
        "\n",
        "* **Weird Fact :** Though we have received high ratings in overall, still no reviewer has recommended the purchase.....which seems a little odd.\n",
        "\n",
        "* **Review** is a Text feature, which we can use for Text Semantic Anaysis.\n",
        "\n",
        "* We can build a **Classification Model** using the Dataset to predict if a given review is **Good** or **Bad**.\n",
        "\n",
        "    * **'Review'** = Input Data (Features)\n",
        "    * **'Ratings'** can be used to build O/P Class Labels."
      ],
      "metadata": {
        "id": "FYo27sgVXAc9"
      }
    }
  ]
}